{
 "cells": [
  {
   "cell_type": "markdown",
   "id": "d8e92ca2",
   "metadata": {},
   "source": [
    "# Realizado por Daniel Rodriguez Amezaga "
   ]
  },
  {
   "cell_type": "markdown",
   "id": "e142ef4e",
   "metadata": {},
   "source": [
    "# Ejercicio final de la clase 4 "
   ]
  },
  {
   "cell_type": "code",
   "execution_count": 72,
   "id": "cbbb19d7",
   "metadata": {},
   "outputs": [],
   "source": [
    "import psycopg2\n",
    "import pandas as pd\n",
    "from psycopg2 import sql\n",
    "from psycopg2.extensions import ISOLATION_LEVEL_AUTOCOMMIT"
   ]
  },
  {
   "cell_type": "markdown",
   "id": "4d99dd63",
   "metadata": {},
   "source": [
    "# PASO 1 | Conexión a la BBDD "
   ]
  },
  {
   "cell_type": "code",
   "execution_count": 73,
   "id": "9376353d",
   "metadata": {},
   "outputs": [],
   "source": [
    "conn = psycopg2.connect(\"host=db dbname=actividad user=postgres password=postgres\")"
   ]
  },
  {
   "cell_type": "code",
   "execution_count": 74,
   "id": "e609b92d",
   "metadata": {},
   "outputs": [],
   "source": [
    "conn.set_isolation_level(ISOLATION_LEVEL_AUTOCOMMIT)"
   ]
  },
  {
   "cell_type": "code",
   "execution_count": 75,
   "id": "4be5b14c",
   "metadata": {},
   "outputs": [],
   "source": [
    "curr = conn.cursor()"
   ]
  },
  {
   "cell_type": "markdown",
   "id": "1852db7b",
   "metadata": {},
   "source": [
    "# Paso 2 | Creación de una BBDD "
   ]
  },
  {
   "cell_type": "code",
   "execution_count": 76,
   "id": "b79f19ef",
   "metadata": {},
   "outputs": [],
   "source": [
    "try:\n",
    "    curr.execute(sql.SQL(\"CREATE DATABASE {};\").format(\n",
    "        sql.Identifier(\"avtividad\")))\n",
    "except psycopg2.Error as e:\n",
    "    print(\"Error en la creación BBDD; %s\" % str(e))"
   ]
  },
  {
   "cell_type": "markdown",
   "id": "1a235bb1",
   "metadata": {},
   "source": [
    "# Paso 3 | Creación de las Tablas"
   ]
  },
  {
   "cell_type": "code",
   "execution_count": 77,
   "id": "953db5ef",
   "metadata": {},
   "outputs": [],
   "source": [
    "curr.execute(\"CREATE TABLE edición(ID_edic integer NOT NULL,Numero character(80) NOT NULL);\")\n",
    "curr.execute(\"CREATE TABLE notas(ID_notas integer NOT NULL,Name character varying NOT NULL,Edad integer NOT NULL,Notas numeric NOT NULL,ID_edic integer NOT NULL);\")\n"
   ]
  },
  {
   "cell_type": "markdown",
   "id": "5dc454d4",
   "metadata": {},
   "source": [
    "# Paso 4 | Insertar valores a las tablas"
   ]
  },
  {
   "cell_type": "code",
   "execution_count": 78,
   "id": "775b85c4",
   "metadata": {},
   "outputs": [],
   "source": [
    "#EInsertar datos en tabla edicion\n",
    "curr.execute(\"INSERT INTO edición VALUES(1,'Uno');\")\n",
    "curr.execute(\"INSERT INTO edición VALUES(2,'Dos');\")\n",
    "curr.execute(\"INSERT INTO edición VALUES(3,'Tres');\")\n",
    "\n",
    "#Insertar datos en tabla notas\n",
    "curr.execute(\"INSERT INTO notas VALUES(1, 'Isabel Maniega', 30, 5.6, 1);\")\n",
    "curr.execute(\"INSERT INTO notas VALUES(2, 'José Manuel Peña', 30, 7.8, 1);\")\n",
    "curr.execute(\"INSERT INTO notas VALUES(3, 'Pedro López', 25, 5.2, 2);\")\n",
    "curr.execute(\"INSERT INTO notas VALUES(4, 'Julia García', 22, 7.3, 1);\")\n",
    "curr.execute(\"INSERT INTO notas VALUES(5, 'Amparo Mayora', 28, 8.4, 3);\")\n",
    "curr.execute(\"INSERT INTO notas VALUES(6, 'Juan Martínez', 30, 6.8, 3);\")\n",
    "curr.execute(\"INSERT INTO notas VALUES(7, 'Fernando López', 35, 6.1, 2);\")\n",
    "curr.execute(\"INSERT INTO notas VALUES(8, 'María Castro', 41, 5.9, 3);\")\n",
    "\n",
    "conn.commit()"
   ]
  },
  {
   "cell_type": "markdown",
   "id": "ac33a2e9",
   "metadata": {},
   "source": [
    "<img src=\"capturas/ver_tabla_edicion.png\">\n",
    "<img src=\"capturas/ver_tabla_notas.png\">"
   ]
  },
  {
   "cell_type": "markdown",
   "id": "1af2a281",
   "metadata": {},
   "source": [
    "# Actualizar datos CMD y Adminer"
   ]
  },
  {
   "cell_type": "code",
   "execution_count": 83,
   "id": "b7d4fd77",
   "metadata": {},
   "outputs": [],
   "source": [
    "curr.execute(\"UPDATE Notas SET id_notas='3',Name='PEdro López',Edad='25',Notas='6.4',ID_edic='2' WHERE ID_notas='3';\")"
   ]
  },
  {
   "cell_type": "code",
   "execution_count": 85,
   "id": "b1be3f76",
   "metadata": {},
   "outputs": [],
   "source": [
    "curr.execute(\"UPDATE Notas SET ID_notas='8',Name='María Castro',Edad='41',Notas='5.2',ID_edic='3' WHERE ID_notas='8';\")"
   ]
  },
  {
   "cell_type": "markdown",
   "id": "85327805",
   "metadata": {},
   "source": [
    "<img src=\"capturas/modificar_notas1.png\">\n",
    "<img src=\"capturas/modificar_notas2.png\">\n",
    "<img src=\"capturas/ver_notas_actualizadas.png\">"
   ]
  },
  {
   "cell_type": "markdown",
   "id": "2eea3688",
   "metadata": {},
   "source": [
    "# Busquedas en la base de datos "
   ]
  },
  {
   "cell_type": "code",
   "execution_count": 86,
   "id": "1fec25f8",
   "metadata": {},
   "outputs": [],
   "source": [
    "curr.execute(\"SELECT * FROM Notas WHERE 'Notas' >= '5' and 'Notas' <='6.5' ORDER BY Notas;\")"
   ]
  },
  {
   "cell_type": "code",
   "execution_count": 87,
   "id": "148e85b1",
   "metadata": {},
   "outputs": [],
   "source": [
    "curr.execute(\"SELECT * FROM Notas WHERE 'ID_edic' = '2' ORDER BY Notas;\")"
   ]
  },
  {
   "cell_type": "markdown",
   "id": "cb95d3b4",
   "metadata": {},
   "source": [
    "<img src=\"capturas/buscar_notas_5_6.png\">\n",
    "<img src=\"capturas/buscar_alum_edic_2.png\">"
   ]
  },
  {
   "cell_type": "markdown",
   "id": "f4eff3ae",
   "metadata": {},
   "source": [
    "# Eliminar alumno Pedro"
   ]
  },
  {
   "cell_type": "code",
   "execution_count": 88,
   "id": "d6469a49",
   "metadata": {},
   "outputs": [],
   "source": [
    "curr.execute(\"DELETE FROM Notas WHERE (('ID notas' = '3'));\")"
   ]
  },
  {
   "cell_type": "markdown",
   "id": "f18130f0",
   "metadata": {},
   "source": [
    "<img src=\"capturas/del_pedro.png\">"
   ]
  },
  {
   "cell_type": "markdown",
   "id": "84de9753",
   "metadata": {},
   "source": [
    "# Paso Final | Cerrar la conexión "
   ]
  },
  {
   "cell_type": "code",
   "execution_count": 89,
   "id": "f2808395",
   "metadata": {},
   "outputs": [],
   "source": [
    "curr.close()\n",
    "conn.close()"
   ]
  },
  {
   "cell_type": "code",
   "execution_count": null,
   "id": "763a7951",
   "metadata": {},
   "outputs": [],
   "source": []
  }
 ],
 "metadata": {
  "kernelspec": {
   "display_name": "Python 3",
   "language": "python",
   "name": "python3"
  },
  "language_info": {
   "codemirror_mode": {
    "name": "ipython",
    "version": 3
   },
   "file_extension": ".py",
   "mimetype": "text/x-python",
   "name": "python",
   "nbconvert_exporter": "python",
   "pygments_lexer": "ipython3",
   "version": "3.9.2"
  }
 },
 "nbformat": 4,
 "nbformat_minor": 5
}
