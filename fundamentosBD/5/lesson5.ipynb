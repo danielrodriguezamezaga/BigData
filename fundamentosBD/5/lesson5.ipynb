{
 "cells": [
  {
   "cell_type": "markdown",
   "id": "885c371a",
   "metadata": {},
   "source": [
    "# Alumno: Daniel Rodriguez Amezaga"
   ]
  },
  {
   "cell_type": "markdown",
   "id": "4a2ecdc4",
   "metadata": {},
   "source": [
    "# Capturas Robo3T crear DB y Collections"
   ]
  },
  {
   "cell_type": "markdown",
   "id": "b04d2554",
   "metadata": {},
   "source": [
    "<img src=\"capturas/conect_mongodb.png\">\n",
    "<img src=\"capturas/create_database.png\">\n",
    "<img src=\"capturas/create_collections.png\">"
   ]
  },
  {
   "cell_type": "code",
   "execution_count": 1,
   "id": "9b835a5c",
   "metadata": {},
   "outputs": [],
   "source": [
    "import pymongo\n",
    "from datetime import datetime"
   ]
  },
  {
   "cell_type": "code",
   "execution_count": 2,
   "id": "36082829",
   "metadata": {},
   "outputs": [],
   "source": [
    "client = pymongo.MongoClient(\"localhost\",27017)"
   ]
  },
  {
   "cell_type": "markdown",
   "id": "180d9174",
   "metadata": {},
   "source": [
    "# Conexíon "
   ]
  },
  {
   "cell_type": "code",
   "execution_count": 3,
   "id": "7de07af1",
   "metadata": {},
   "outputs": [],
   "source": [
    "db = client.actividad"
   ]
  },
  {
   "cell_type": "markdown",
   "id": "23a8483e",
   "metadata": {},
   "source": [
    "# Insertar valores "
   ]
  },
  {
   "cell_type": "code",
   "execution_count": 4,
   "id": "bd5f088d",
   "metadata": {},
   "outputs": [
    {
     "name": "stdout",
     "output_type": "stream",
     "text": [
      "\n",
      "Insertamos los datos...\n"
     ]
    },
    {
     "data": {
      "text/plain": [
       "<pymongo.results.InsertOneResult at 0x7fbd947cd670>"
      ]
     },
     "execution_count": 4,
     "metadata": {},
     "output_type": "execute_result"
    }
   ],
   "source": [
    "db.notas.insert_one({'nombre': 'Pedro López', 'edad': 25, \n",
    "                     'email': 'pedro@eip.com', 'notas': 5.2, \n",
    "                     'fecha': datetime.now()})\n",
    "\n",
    "db.notas.insert_one({'nombre': 'Julia García', 'edad': 22, \n",
    "                     'email': 'julia@eip.com', 'nota': 7.3,\n",
    "                     'fecha': datetime.now()})\n",
    "                    \n",
    "db.notas.insert_one({'nombre': 'Amparo Mayoral', 'edad': 28, \n",
    "                     'email': 'amparo@eip.com', 'nota': 8.4, \n",
    "                     'fecha': datetime.now()})\n",
    "                    \n",
    "db.notas.insert_one({'nombre': 'Juan Martínez', 'edad': 30, \n",
    "                     'email': 'juan@eip.com', 'nota': 6.8,\n",
    "                     'fecha': datetime.now()})\n"
   ]
  },
  {
   "cell_type": "markdown",
   "id": "9d0961c6",
   "metadata": {},
   "source": [
    "# Visualizar todos los datos hasta ahora"
   ]
  },
  {
   "cell_type": "code",
   "execution_count": 5,
   "id": "a2fcad53",
   "metadata": {},
   "outputs": [
    {
     "name": "stdout",
     "output_type": "stream",
     "text": [
      "\n",
      "Datos Insertados:\n",
      "{'_id': ObjectId('63e3fdc18339bb8edfe835bb'), 'nombre': 'Pedro López', 'edad': 25, 'email': 'pedro@eip.com', 'notas': 5.2, 'fecha': datetime.datetime(2023, 2, 8, 20, 53, 37, 112000)}\n",
      "{'_id': ObjectId('63e3fdc18339bb8edfe835bc'), 'nombre': 'Julia García', 'edad': 22, 'email': 'julia@eip.com', 'nota': 7.3, 'fecha': datetime.datetime(2023, 2, 8, 20, 53, 37, 227000)}\n",
      "{'_id': ObjectId('63e3fdc18339bb8edfe835bd'), 'nombre': 'Amparo Mayoral', 'edad': 28, 'email': 'amparo@eip.com', 'nota': 8.4, 'fecha': datetime.datetime(2023, 2, 8, 20, 53, 37, 229000)}\n",
      "{'_id': ObjectId('63e3fdc18339bb8edfe835be'), 'nombre': 'Juan Martínez', 'edad': 30, 'email': 'juan@eip.com', 'nota': 6.8, 'fecha': datetime.datetime(2023, 2, 8, 20, 53, 37, 230000)}\n"
     ]
    }
   ],
   "source": [
    "col = db.notas\n",
    "for docum in col.find({}):\n",
    "    print(docum)"
   ]
  },
  {
   "cell_type": "markdown",
   "id": "998e2971",
   "metadata": {},
   "source": [
    "# Actualizar datos con \"update_one\""
   ]
  },
  {
   "cell_type": "code",
   "execution_count": 6,
   "id": "2c0e18b3",
   "metadata": {},
   "outputs": [
    {
     "name": "stdout",
     "output_type": "stream",
     "text": [
      "\n",
      "Actualizamos las notas de Amparo y Juan...\n"
     ]
    },
    {
     "data": {
      "text/plain": [
       "<pymongo.results.UpdateResult at 0x7fbdb50f1eb0>"
      ]
     },
     "execution_count": 6,
     "metadata": {},
     "output_type": "execute_result"
    }
   ],
   "source": [
    "col.update_one({\n",
    "    \"nombre\": \"Amparo Mayoral\"\n",
    "}, {\n",
    "    \"$set\": {\n",
    "        \"nota\": 9.3\n",
    "    }\n",
    "})\n",
    "\n",
    "col.update_one({\n",
    "    \"nombre\": \"Juan Martínez\"\n",
    "}, {\n",
    "    \"$set\": {\n",
    "        \"nota\": 7.2\n",
    "    }\n",
    "})"
   ]
  },
  {
   "cell_type": "markdown",
   "id": "13f0fcfe",
   "metadata": {},
   "source": [
    "# Visualizar todos los datos hasta ahora"
   ]
  },
  {
   "cell_type": "code",
   "execution_count": 7,
   "id": "ea8b218d",
   "metadata": {},
   "outputs": [
    {
     "name": "stdout",
     "output_type": "stream",
     "text": [
      "\n",
      "Mostramos los datos de nuevo:\n",
      "{'_id': ObjectId('63e3fdc18339bb8edfe835bb'), 'nombre': 'Pedro López', 'edad': 25, 'email': 'pedro@eip.com', 'notas': 5.2, 'fecha': datetime.datetime(2023, 2, 8, 20, 53, 37, 112000)}\n",
      "{'_id': ObjectId('63e3fdc18339bb8edfe835bc'), 'nombre': 'Julia García', 'edad': 22, 'email': 'julia@eip.com', 'nota': 7.3, 'fecha': datetime.datetime(2023, 2, 8, 20, 53, 37, 227000)}\n",
      "{'_id': ObjectId('63e3fdc18339bb8edfe835bd'), 'nombre': 'Amparo Mayoral', 'edad': 28, 'email': 'amparo@eip.com', 'nota': 9.3, 'fecha': datetime.datetime(2023, 2, 8, 20, 53, 37, 229000)}\n",
      "{'_id': ObjectId('63e3fdc18339bb8edfe835be'), 'nombre': 'Juan Martínez', 'edad': 30, 'email': 'juan@eip.com', 'nota': 7.2, 'fecha': datetime.datetime(2023, 2, 8, 20, 53, 37, 230000)}\n"
     ]
    }
   ],
   "source": [
    "col = db.notas\n",
    "for docum in col.find({}):\n",
    "    print(docum)"
   ]
  },
  {
   "cell_type": "markdown",
   "id": "45450ade",
   "metadata": {},
   "source": [
    "# Buscar notas mayores que 7 y menores que 7.5"
   ]
  },
  {
   "cell_type": "code",
   "execution_count": null,
   "id": "30543587",
   "metadata": {},
   "outputs": [],
   "source": [
    "col = db.notas\n",
    "for docum in col.find({\n",
    "    \"nota\": {\n",
    "        # Usamos $gt para decir \"mayor que\"\n",
    "        \"$gt\": 7\n",
    "    },\n",
    "        \"nota\": {\n",
    "        # Usamos $lt para decir \"menor que\"\n",
    "        \"$lt\": 7.5\n",
    "    }\n",
    "}):\n",
    "    print(docum)"
   ]
  },
  {
   "cell_type": "markdown",
   "id": "317ef02b",
   "metadata": {},
   "source": [
    "# Eliminar uno \"delete_one\""
   ]
  },
  {
   "cell_type": "code",
   "execution_count": null,
   "id": "4a6da35e",
   "metadata": {},
   "outputs": [],
   "source": [
    "col.delete_one({\n",
    "    \"nombre\": \"Pedro López\"\n",
    "})"
   ]
  },
  {
   "cell_type": "markdown",
   "id": "214992ea",
   "metadata": {},
   "source": [
    "# Visualizar todos los datos hasta ahora(Pedro Eliminado)"
   ]
  },
  {
   "cell_type": "code",
   "execution_count": null,
   "id": "2ef6ac2b",
   "metadata": {},
   "outputs": [],
   "source": [
    "col = db.notas\n",
    "for docum in col.find({}):\n",
    "    print(docum)"
   ]
  }
 ],
 "metadata": {
  "kernelspec": {
   "display_name": "Python 3 (ipykernel)",
   "language": "python",
   "name": "python3"
  },
  "language_info": {
   "codemirror_mode": {
    "name": "ipython",
    "version": 3
   },
   "file_extension": ".py",
   "mimetype": "text/x-python",
   "name": "python",
   "nbconvert_exporter": "python",
   "pygments_lexer": "ipython3",
   "version": "3.9.2"
  }
 },
 "nbformat": 4,
 "nbformat_minor": 5
}
