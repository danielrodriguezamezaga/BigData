{
 "cells": [
  {
   "cell_type": "markdown",
   "id": "05b4c995-5e9b-44da-9c63-2a8af1502aa0",
   "metadata": {},
   "source": [
    "## Lección 7 Fundamentos BD\n",
    "Alumno: Daniel Rodríguez Amezaga"
   ]
  },
  {
   "cell_type": "markdown",
   "id": "40debe8e-4e94-4688-82e0-c00a7c6496b2",
   "metadata": {},
   "source": [
    "#### En este desafiante ejercicio de Apache Spark Streaming, he instalado todas las dependencias necesarias y configurado el entorno para el procesamiento de flujos en tiempo real. Aunque encontré algunos desafíos a lo largo del camino, estoy orgulloso del esfuerzo que invertí y de todo lo que aprendí en el proceso. Quiero expresar mi gratitud al profesor/mentor por su valiosa ayuda y orientación en esta práctica. Gracias a su apoyo, pude completar exitosamente el ejemplo y fortalecer mis habilidades en el análisis de datos en tiempo real con Spark."
   ]
  },
  {
   "cell_type": "code",
   "execution_count": 1,
   "id": "b1b8df69-7364-4b2a-b416-1fcb92c1751d",
   "metadata": {
    "tags": []
   },
   "outputs": [
    {
     "name": "stderr",
     "output_type": "stream",
     "text": [
      "Picked up _JAVA_OPTIONS: -Dawt.useSystemAAFontSettings=on -Dswing.aatext=true\n",
      "Picked up _JAVA_OPTIONS: -Dawt.useSystemAAFontSettings=on -Dswing.aatext=true\n",
      "23/05/13 05:25:19 WARN Utils: Your hostname, kali resolves to a loopback address: 127.0.1.1; using 192.168.18.104 instead (on interface eth0)\n",
      "23/05/13 05:25:19 WARN Utils: Set SPARK_LOCAL_IP if you need to bind to another address\n",
      "Setting default log level to \"WARN\".\n",
      "To adjust logging level use sc.setLogLevel(newLevel). For SparkR, use setLogLevel(newLevel).\n",
      "23/05/13 05:25:19 WARN NativeCodeLoader: Unable to load native-hadoop library for your platform... using builtin-java classes where applicable\n",
      "/home/kali/Desktop/proyecto/env/lib/python3.11/site-packages/pyspark/streaming/context.py:72: FutureWarning: DStream is deprecated as of Spark 3.4.0. Migrate to Structured Streaming.\n",
      "  warnings.warn(\n"
     ]
    },
    {
     "name": "stdout",
     "output_type": "stream",
     "text": [
      "Conectado al servidor\n"
     ]
    },
    {
     "name": "stdin",
     "output_type": "stream",
     "text": [
      "Mensaje desde Cliente a Servidor >>  Lección 7 BigData\n",
      "Mensaje desde Cliente a Servidor >>  Apache Spark Streaming\n",
      "Mensaje desde Cliente a Servidor >>  Daniel Rodriguez Amezaga\n",
      "Mensaje desde Cliente a Servidor >>  Reto superado!!!\n",
      "Mensaje desde Cliente a Servidor >>  \n",
      "Mensaje desde Cliente a Servidor >>  fin\n"
     ]
    },
    {
     "name": "stdout",
     "output_type": "stream",
     "text": [
      "Conexión cerrada\n"
     ]
    }
   ],
   "source": [
    "from pyspark import SparkConf, SparkContext\n",
    "from pyspark.streaming import StreamingContext\n",
    "import socket\n",
    "\n",
    "# Creación de una configuración Spark\n",
    "conf = SparkConf().setAppName(\"StreamApp\")\n",
    "\n",
    "# Creación del contexto Spark\n",
    "sc = SparkContext(conf=conf)\n",
    "sc.setLogLevel(\"WARN\")\n",
    "\n",
    "# Creación del contexto de streaming con intervalo de 2 segundos\n",
    "ssc = StreamingContext(sc, 2)\n",
    "ssc.checkpoint(\"checkpoint_App\")\n",
    "\n",
    "# Creación del flujo de datos desde el socket\n",
    "dataStream = ssc.socketTextStream(\"localhost\", 9009)\n",
    "obj = socket.socket()\n",
    "\n",
    "# Conexión con el servidor. Parámetros: IP (puede ser del tipo 192.168.1.1 o localhost), Puerto\n",
    "obj.connect((\"localhost\", 9009))\n",
    "print(\"Conectado al servidor\")\n",
    "\n",
    "# Bucle para retener la conexión\n",
    "while True:\n",
    "    # Entrada de datos para enviar mensajes\n",
    "    mensaje = input(\"Mensaje desde Cliente a Servidor >> \")\n",
    "    mens = mensaje.encode('utf-8')\n",
    "    obj.send(mens)\n",
    "    \n",
    "    if mensaje == \"fin\":\n",
    "        break\n",
    "\n",
    "# Cierre de la instancia del objeto servidor\n",
    "obj.close()\n",
    "\n",
    "# Mensaje de \"Conexión cerrada\" al cerrar la conexión\n",
    "print(\"Conexión cerrada\")"
   ]
  },
  {
   "cell_type": "code",
   "execution_count": 2,
   "id": "94b8183f-d88e-465e-a86f-020ec6dac3fc",
   "metadata": {
    "tags": []
   },
   "outputs": [],
   "source": [
    "# Operaciones con el flujo de datos\n",
    "words = dataStream.flatMap(lambda dataStream: dataStream.split(\" \"))"
   ]
  },
  {
   "cell_type": "code",
   "execution_count": 5,
   "id": "9bb3ad94-6841-4cda-b2fa-32bda3122913",
   "metadata": {
    "tags": []
   },
   "outputs": [],
   "source": [
    "# Iniciar la computación del contexto de streaming\n",
    "#ssc.start()"
   ]
  },
  {
   "cell_type": "code",
   "execution_count": 4,
   "id": "b90cdf19-3396-4df7-9a15-d793129a833b",
   "metadata": {
    "tags": []
   },
   "outputs": [
    {
     "name": "stderr",
     "output_type": "stream",
     "text": [
      "23/05/13 05:26:32 WARN StreamingContext: StreamingContext has already been stopped\n"
     ]
    }
   ],
   "source": [
    "# Detener la computación del contexto de streaming\n",
    "ssc.stop()"
   ]
  },
  {
   "cell_type": "code",
   "execution_count": 6,
   "id": "0ab2a3ad-e94f-4466-9487-7ff65824c3c9",
   "metadata": {
    "tags": []
   },
   "outputs": [
    {
     "name": "stdout",
     "output_type": "stream",
     "text": [
      "<pyspark.streaming.dstream.TransformedDStream object at 0x7f9329f48790>\n"
     ]
    }
   ],
   "source": [
    "# Imprimir el resultado\n",
    "print(words)"
   ]
  },
  {
   "cell_type": "code",
   "execution_count": null,
   "id": "ef067941-336b-40a6-bddd-c5e0a284f7ac",
   "metadata": {},
   "outputs": [],
   "source": []
  }
 ],
 "metadata": {
  "kernelspec": {
   "display_name": "Python 3 (ipykernel)",
   "language": "python",
   "name": "python3"
  },
  "language_info": {
   "codemirror_mode": {
    "name": "ipython",
    "version": 3
   },
   "file_extension": ".py",
   "mimetype": "text/x-python",
   "name": "python",
   "nbconvert_exporter": "python",
   "pygments_lexer": "ipython3",
   "version": "3.11.2"
  }
 },
 "nbformat": 4,
 "nbformat_minor": 5
}
