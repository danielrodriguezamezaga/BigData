{
 "cells": [
  {
   "cell_type": "markdown",
   "id": "2e496444-1668-4119-9226-54eba31cf598",
   "metadata": {},
   "source": [
    "## Lección 7 Fundamentos BD\n",
    "Alumno: Daniel Rodríguez Amezaga"
   ]
  },
  {
   "cell_type": "code",
   "execution_count": 2,
   "id": "4cfe0555-35a6-45f5-aa89-c01dcebb3416",
   "metadata": {
    "tags": []
   },
   "outputs": [
    {
     "name": "stdout",
     "output_type": "stream",
     "text": [
      "Esperando conexión TCP...\n",
      "Conexión establecida... Comenzando a recibir mensajes.\n",
      "Recibido de la IP: 127.0.0.1 Puerto: 37162\n",
      "Lección 7 BigData\n",
      "Recibido de la IP: 127.0.0.1 Puerto: 37162\n",
      "Apache Spark Streaming\n",
      "Recibido de la IP: 127.0.0.1 Puerto: 37162\n",
      "Daniel Rodriguez Amezaga\n",
      "Recibido de la IP: 127.0.0.1 Puerto: 37162\n",
      "Reto superado!!!\n",
      "Recibido de la IP: 127.0.0.1 Puerto: 37162\n",
      "fin\n",
      "Conexiones cerradas\n"
     ]
    }
   ],
   "source": [
    "import socket\n",
    "\n",
    "# Configuración del socket\n",
    "TCP_IP = \"localhost\"\n",
    "TCP_PORT = 9009\n",
    "\n",
    "# Creación del socket\n",
    "s = socket.socket(socket.AF_INET, socket.SOCK_STREAM)\n",
    "s.bind((TCP_IP, TCP_PORT))\n",
    "s.listen(1)\n",
    "\n",
    "print(\"Esperando conexión TCP...\")\n",
    "conn, addr = s.accept()\n",
    "print(\"Conexión establecida... Comenzando a recibir mensajes.\")\n",
    "\n",
    "while True:\n",
    "    # Recibimos los datos del cliente\n",
    "    data = conn.recv(1024)\n",
    "    \n",
    "    # Si no hay datos, se ha cerrado la conexión\n",
    "    if not data:\n",
    "        break\n",
    "\n",
    "    # Mostramos la dirección IP y el mensaje recibido\n",
    "    print(\"Recibido de la IP: {} Puerto: {}\".format(addr[0], addr[1]))\n",
    "    print(data.decode())\n",
    "\n",
    "    # Comprobamos si se recibió el mensaje de finalización\n",
    "    if data.decode() == \"fin\":\n",
    "        break\n",
    "\n",
    "# Cerramos la conexión del socket cliente y servidor\n",
    "conn.close()\n",
    "s.close()\n",
    "\n",
    "print(\"Conexiones cerradas\")"
   ]
  },
  {
   "cell_type": "code",
   "execution_count": null,
   "id": "52aaf064",
   "metadata": {},
   "outputs": [],
   "source": []
  }
 ],
 "metadata": {
  "kernelspec": {
   "display_name": "Python 3 (ipykernel)",
   "language": "python",
   "name": "python3"
  },
  "language_info": {
   "codemirror_mode": {
    "name": "ipython",
    "version": 3
   },
   "file_extension": ".py",
   "mimetype": "text/x-python",
   "name": "python",
   "nbconvert_exporter": "python",
   "pygments_lexer": "ipython3",
   "version": "3.11.2"
  }
 },
 "nbformat": 4,
 "nbformat_minor": 5
}
