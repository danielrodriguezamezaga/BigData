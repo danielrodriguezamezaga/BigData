{
 "cells": [
  {
   "cell_type": "markdown",
   "id": "06401b02",
   "metadata": {},
   "source": [
    "# PRINCIPALES DEPENDENCIAS"
   ]
  },
  {
   "cell_type": "code",
   "execution_count": 1,
   "id": "028bbaaa",
   "metadata": {},
   "outputs": [],
   "source": [
    "import pandas as pd"
   ]
  },
  {
   "cell_type": "markdown",
   "id": "a5678037",
   "metadata": {},
   "source": [
    "# Creo un DataFrame para el ejemplo"
   ]
  },
  {
   "cell_type": "code",
   "execution_count": 2,
   "id": "a93855e1",
   "metadata": {},
   "outputs": [
    {
     "data": {
      "text/html": [
       "<div>\n",
       "<style scoped>\n",
       "    .dataframe tbody tr th:only-of-type {\n",
       "        vertical-align: middle;\n",
       "    }\n",
       "\n",
       "    .dataframe tbody tr th {\n",
       "        vertical-align: top;\n",
       "    }\n",
       "\n",
       "    .dataframe thead th {\n",
       "        text-align: right;\n",
       "    }\n",
       "</style>\n",
       "<table border=\"1\" class=\"dataframe\">\n",
       "  <thead>\n",
       "    <tr style=\"text-align: right;\">\n",
       "      <th></th>\n",
       "      <th>x</th>\n",
       "      <th>y</th>\n",
       "    </tr>\n",
       "  </thead>\n",
       "  <tbody>\n",
       "    <tr>\n",
       "      <th>0</th>\n",
       "      <td>10</td>\n",
       "      <td>1</td>\n",
       "    </tr>\n",
       "    <tr>\n",
       "      <th>1</th>\n",
       "      <td>20</td>\n",
       "      <td>1</td>\n",
       "    </tr>\n",
       "    <tr>\n",
       "      <th>2</th>\n",
       "      <td>30</td>\n",
       "      <td>0</td>\n",
       "    </tr>\n",
       "    <tr>\n",
       "      <th>3</th>\n",
       "      <td>40</td>\n",
       "      <td>1</td>\n",
       "    </tr>\n",
       "    <tr>\n",
       "      <th>4</th>\n",
       "      <td>50</td>\n",
       "      <td>0</td>\n",
       "    </tr>\n",
       "  </tbody>\n",
       "</table>\n",
       "</div>"
      ],
      "text/plain": [
       "    x  y\n",
       "0  10  1\n",
       "1  20  1\n",
       "2  30  0\n",
       "3  40  1\n",
       "4  50  0"
      ]
     },
     "execution_count": 2,
     "metadata": {},
     "output_type": "execute_result"
    }
   ],
   "source": [
    "df = pd.DataFrame({\"x\":[10,20,30,40,50], \"y\":[1,1,0,1,0]})\n",
    "df.head()"
   ]
  },
  {
   "cell_type": "markdown",
   "id": "2cc34648",
   "metadata": {},
   "source": [
    "# Daraframe en base a ciertos criterios"
   ]
  },
  {
   "cell_type": "markdown",
   "id": "42aa4c81",
   "metadata": {},
   "source": [
    "## DataFrame de filas que y = 1"
   ]
  },
  {
   "cell_type": "code",
   "execution_count": 3,
   "id": "c7a9b80e",
   "metadata": {},
   "outputs": [
    {
     "data": {
      "text/html": [
       "<div>\n",
       "<style scoped>\n",
       "    .dataframe tbody tr th:only-of-type {\n",
       "        vertical-align: middle;\n",
       "    }\n",
       "\n",
       "    .dataframe tbody tr th {\n",
       "        vertical-align: top;\n",
       "    }\n",
       "\n",
       "    .dataframe thead th {\n",
       "        text-align: right;\n",
       "    }\n",
       "</style>\n",
       "<table border=\"1\" class=\"dataframe\">\n",
       "  <thead>\n",
       "    <tr style=\"text-align: right;\">\n",
       "      <th></th>\n",
       "      <th>x</th>\n",
       "      <th>y</th>\n",
       "    </tr>\n",
       "  </thead>\n",
       "  <tbody>\n",
       "    <tr>\n",
       "      <th>0</th>\n",
       "      <td>10</td>\n",
       "      <td>1</td>\n",
       "    </tr>\n",
       "    <tr>\n",
       "      <th>1</th>\n",
       "      <td>20</td>\n",
       "      <td>1</td>\n",
       "    </tr>\n",
       "    <tr>\n",
       "      <th>3</th>\n",
       "      <td>40</td>\n",
       "      <td>1</td>\n",
       "    </tr>\n",
       "  </tbody>\n",
       "</table>\n",
       "</div>"
      ],
      "text/plain": [
       "    x  y\n",
       "0  10  1\n",
       "1  20  1\n",
       "3  40  1"
      ]
     },
     "execution_count": 3,
     "metadata": {},
     "output_type": "execute_result"
    }
   ],
   "source": [
    "# creas un df con el formato del df que teníamos\n",
    "# en aquellos caso en que la columna \"y\" del df es = 1\n",
    "# se lo asignamos a la variable: \"df_uno\"\n",
    "df_uno = df[df[\"y\"]==1]\n",
    "df_uno"
   ]
  },
  {
   "cell_type": "code",
   "execution_count": 4,
   "id": "114e3eb6",
   "metadata": {},
   "outputs": [
    {
     "data": {
      "text/html": [
       "<div>\n",
       "<style scoped>\n",
       "    .dataframe tbody tr th:only-of-type {\n",
       "        vertical-align: middle;\n",
       "    }\n",
       "\n",
       "    .dataframe tbody tr th {\n",
       "        vertical-align: top;\n",
       "    }\n",
       "\n",
       "    .dataframe thead th {\n",
       "        text-align: right;\n",
       "    }\n",
       "</style>\n",
       "<table border=\"1\" class=\"dataframe\">\n",
       "  <thead>\n",
       "    <tr style=\"text-align: right;\">\n",
       "      <th></th>\n",
       "      <th>x</th>\n",
       "      <th>y</th>\n",
       "    </tr>\n",
       "  </thead>\n",
       "  <tbody>\n",
       "    <tr>\n",
       "      <th>0</th>\n",
       "      <td>10</td>\n",
       "      <td>1</td>\n",
       "    </tr>\n",
       "    <tr>\n",
       "      <th>1</th>\n",
       "      <td>20</td>\n",
       "      <td>1</td>\n",
       "    </tr>\n",
       "    <tr>\n",
       "      <th>3</th>\n",
       "      <td>40</td>\n",
       "      <td>1</td>\n",
       "    </tr>\n",
       "  </tbody>\n",
       "</table>\n",
       "</div>"
      ],
      "text/plain": [
       "    x  y\n",
       "0  10  1\n",
       "1  20  1\n",
       "3  40  1"
      ]
     },
     "execution_count": 4,
     "metadata": {},
     "output_type": "execute_result"
    }
   ],
   "source": [
    "# NombreDataframe.NombreColumna (otra posible forma de \"llamar a una columna\")\n",
    "# lo hemos llamado b para guardarlo con otro nombre de variable\n",
    "# es preferible, en este caso, no obstante, la anterior elección\n",
    "df_uno_b = df[df.y==1]\n",
    "df_uno_b"
   ]
  },
  {
   "cell_type": "markdown",
   "id": "4876050a",
   "metadata": {},
   "source": [
    "## DataFrame de filas que y = 0"
   ]
  },
  {
   "cell_type": "code",
   "execution_count": 5,
   "id": "ce612fb3",
   "metadata": {},
   "outputs": [
    {
     "data": {
      "text/html": [
       "<div>\n",
       "<style scoped>\n",
       "    .dataframe tbody tr th:only-of-type {\n",
       "        vertical-align: middle;\n",
       "    }\n",
       "\n",
       "    .dataframe tbody tr th {\n",
       "        vertical-align: top;\n",
       "    }\n",
       "\n",
       "    .dataframe thead th {\n",
       "        text-align: right;\n",
       "    }\n",
       "</style>\n",
       "<table border=\"1\" class=\"dataframe\">\n",
       "  <thead>\n",
       "    <tr style=\"text-align: right;\">\n",
       "      <th></th>\n",
       "      <th>x</th>\n",
       "      <th>y</th>\n",
       "    </tr>\n",
       "  </thead>\n",
       "  <tbody>\n",
       "    <tr>\n",
       "      <th>2</th>\n",
       "      <td>30</td>\n",
       "      <td>0</td>\n",
       "    </tr>\n",
       "    <tr>\n",
       "      <th>4</th>\n",
       "      <td>50</td>\n",
       "      <td>0</td>\n",
       "    </tr>\n",
       "  </tbody>\n",
       "</table>\n",
       "</div>"
      ],
      "text/plain": [
       "    x  y\n",
       "2  30  0\n",
       "4  50  0"
      ]
     },
     "execution_count": 5,
     "metadata": {},
     "output_type": "execute_result"
    }
   ],
   "source": [
    "# creas un df con el formato del df que teníamos\n",
    "# en aquellos caso en que la columna \"y\" del df es = 0\n",
    "# se lo asignamos a la variable: \"df_cero\"\n",
    "df_cero = df[df[\"y\"]==0]\n",
    "df_cero"
   ]
  },
  {
   "cell_type": "code",
   "execution_count": 6,
   "id": "205f9424",
   "metadata": {},
   "outputs": [
    {
     "data": {
      "text/html": [
       "<div>\n",
       "<style scoped>\n",
       "    .dataframe tbody tr th:only-of-type {\n",
       "        vertical-align: middle;\n",
       "    }\n",
       "\n",
       "    .dataframe tbody tr th {\n",
       "        vertical-align: top;\n",
       "    }\n",
       "\n",
       "    .dataframe thead th {\n",
       "        text-align: right;\n",
       "    }\n",
       "</style>\n",
       "<table border=\"1\" class=\"dataframe\">\n",
       "  <thead>\n",
       "    <tr style=\"text-align: right;\">\n",
       "      <th></th>\n",
       "      <th>x</th>\n",
       "      <th>y</th>\n",
       "    </tr>\n",
       "  </thead>\n",
       "  <tbody>\n",
       "    <tr>\n",
       "      <th>2</th>\n",
       "      <td>30</td>\n",
       "      <td>0</td>\n",
       "    </tr>\n",
       "    <tr>\n",
       "      <th>4</th>\n",
       "      <td>50</td>\n",
       "      <td>0</td>\n",
       "    </tr>\n",
       "  </tbody>\n",
       "</table>\n",
       "</div>"
      ],
      "text/plain": [
       "    x  y\n",
       "2  30  0\n",
       "4  50  0"
      ]
     },
     "execution_count": 6,
     "metadata": {},
     "output_type": "execute_result"
    }
   ],
   "source": [
    "# NombreDataframe.NombreColumna (otra posible forma de \"llamar a una columna\")\n",
    "# lo hemos llamado b para guardarlo con otro nombre de variable\n",
    "# es preferible, en este caso, no obstante, la anterior elección\n",
    "df_cero_b = df[df.y==0]\n",
    "df_cero_b"
   ]
  },
  {
   "cell_type": "markdown",
   "id": "1d8a955f",
   "metadata": {},
   "source": [
    "# PRINCIPALES DEPENDENCIAS"
   ]
  },
  {
   "cell_type": "code",
   "execution_count": 7,
   "id": "bb0935fe",
   "metadata": {},
   "outputs": [],
   "source": [
    "import pandas as pd\n",
    "import matplotlib.pyplot as plt"
   ]
  },
  {
   "cell_type": "markdown",
   "id": "7412b78e",
   "metadata": {},
   "source": [
    "## Creo un DataFrame para el ejemplo"
   ]
  },
  {
   "cell_type": "code",
   "execution_count": 8,
   "id": "401cccae",
   "metadata": {},
   "outputs": [
    {
     "data": {
      "text/html": [
       "<div>\n",
       "<style scoped>\n",
       "    .dataframe tbody tr th:only-of-type {\n",
       "        vertical-align: middle;\n",
       "    }\n",
       "\n",
       "    .dataframe tbody tr th {\n",
       "        vertical-align: top;\n",
       "    }\n",
       "\n",
       "    .dataframe thead th {\n",
       "        text-align: right;\n",
       "    }\n",
       "</style>\n",
       "<table border=\"1\" class=\"dataframe\">\n",
       "  <thead>\n",
       "    <tr style=\"text-align: right;\">\n",
       "      <th></th>\n",
       "      <th>x</th>\n",
       "      <th>y</th>\n",
       "    </tr>\n",
       "  </thead>\n",
       "  <tbody>\n",
       "    <tr>\n",
       "      <th>0</th>\n",
       "      <td>10</td>\n",
       "      <td>15</td>\n",
       "    </tr>\n",
       "    <tr>\n",
       "      <th>1</th>\n",
       "      <td>20</td>\n",
       "      <td>5</td>\n",
       "    </tr>\n",
       "    <tr>\n",
       "      <th>2</th>\n",
       "      <td>30</td>\n",
       "      <td>10</td>\n",
       "    </tr>\n",
       "    <tr>\n",
       "      <th>3</th>\n",
       "      <td>40</td>\n",
       "      <td>8</td>\n",
       "    </tr>\n",
       "    <tr>\n",
       "      <th>4</th>\n",
       "      <td>50</td>\n",
       "      <td>6</td>\n",
       "    </tr>\n",
       "  </tbody>\n",
       "</table>\n",
       "</div>"
      ],
      "text/plain": [
       "    x   y\n",
       "0  10  15\n",
       "1  20   5\n",
       "2  30  10\n",
       "3  40   8\n",
       "4  50   6"
      ]
     },
     "execution_count": 8,
     "metadata": {},
     "output_type": "execute_result"
    }
   ],
   "source": [
    "df = pd.DataFrame({\"x\":[10,20,30,40,50], \"y\":[15,5,10,8,6]})\n",
    "df.head()"
   ]
  },
  {
   "cell_type": "markdown",
   "id": "898d771a",
   "metadata": {},
   "source": [
    "# Gráficos rápidos con pandas"
   ]
  },
  {
   "cell_type": "markdown",
   "id": "84ea461d",
   "metadata": {},
   "source": [
    "# .plot()"
   ]
  },
  {
   "cell_type": "code",
   "execution_count": 9,
   "id": "884f72c0",
   "metadata": {},
   "outputs": [
    {
     "data": {
      "text/plain": [
       "<AxesSubplot:>"
      ]
     },
     "execution_count": 9,
     "metadata": {},
     "output_type": "execute_result"
    },
    {
     "data": {
      "image/png": "[encoded data removed]",
      "text/plain": [
       "<Figure size 432x288 with 1 Axes>"
      ]
     },
     "metadata": {
      "needs_background": "light"
     },
     "output_type": "display_data"
    }
   ],
   "source": [
    "df.plot()"
   ]
  },
  {
   "cell_type": "markdown",
   "id": "77986831",
   "metadata": {},
   "source": [
    "# .plot() y plt.show()"
   ]
  },
  {
   "cell_type": "code",
   "execution_count": 10,
   "id": "730159f0",
   "metadata": {},
   "outputs": [
    {
     "data": {
      "image/png": "[encoded data removed]",
      "text/plain": [
       "<Figure size 432x288 with 1 Axes>"
      ]
     },
     "metadata": {
      "needs_background": "light"
     },
     "output_type": "display_data"
    }
   ],
   "source": [
    "df.plot()\n",
    "plt.show()"
   ]
  },
  {
   "cell_type": "markdown",
   "id": "8006d152",
   "metadata": {},
   "source": [
    "# Gráfico de barras"
   ]
  },
  {
   "cell_type": "code",
   "execution_count": 11,
   "id": "5fac962f",
   "metadata": {},
   "outputs": [
    {
     "data": {
      "image/png": "[encoded data removed]",
      "text/plain": [
       "<Figure size 432x288 with 1 Axes>"
      ]
     },
     "metadata": {
      "needs_background": "light"
     },
     "output_type": "display_data"
    }
   ],
   "source": [
    "df.plot(kind=\"bar\")\n",
    "plt.show()"
   ]
  },
  {
   "cell_type": "markdown",
   "id": "c515beb3",
   "metadata": {},
   "source": [
    "# Stacked = apilado"
   ]
  },
  {
   "cell_type": "code",
   "execution_count": 12,
   "id": "29f47557",
   "metadata": {},
   "outputs": [
    {
     "data": {
      "image/png": "[encoded data removed]",
      "text/plain": [
       "<Figure size 432x288 with 1 Axes>"
      ]
     },
     "metadata": {
      "needs_background": "light"
     },
     "output_type": "display_data"
    }
   ],
   "source": [
    "df.plot(kind=\"bar\", stacked=True)\n",
    "plt.show()"
   ]
  },
  {
   "cell_type": "markdown",
   "id": "d98750f9",
   "metadata": {},
   "source": [
    "# Buscamos más parámetros de df.plot"
   ]
  },
  {
   "cell_type": "code",
   "execution_count": 13,
   "id": "db12a233",
   "metadata": {},
   "outputs": [],
   "source": [
    "df.plot?"
   ]
  },
  {
   "cell_type": "markdown",
   "id": "d0f4a1e2",
   "metadata": {},
   "source": [
    "# Le pongo título y rejilla para verlo mejor"
   ]
  },
  {
   "cell_type": "code",
   "execution_count": 14,
   "id": "3d4499ca",
   "metadata": {},
   "outputs": [
    {
     "data": {
      "image/png": "[encoded data removed]",
      "text/plain": [
       "<Figure size 432x288 with 1 Axes>"
      ]
     },
     "metadata": {
      "needs_background": "light"
     },
     "output_type": "display_data"
    }
   ],
   "source": [
    "df.plot(kind=\"bar\", stacked=True,\n",
    "       grid=True, title=\"Gráfica ejemplo con pandas\")\n",
    "plt.show()"
   ]
  },
  {
   "cell_type": "markdown",
   "id": "28402f43",
   "metadata": {},
   "source": [
    "# value_counts()"
   ]
  },
  {
   "cell_type": "code",
   "execution_count": 15,
   "id": "cab984c6",
   "metadata": {},
   "outputs": [
    {
     "data": {
      "text/plain": [
       "15    1\n",
       "5     1\n",
       "10    1\n",
       "8     1\n",
       "6     1\n",
       "Name: y, dtype: int64"
      ]
     },
     "execution_count": 15,
     "metadata": {},
     "output_type": "execute_result"
    }
   ],
   "source": [
    "df.y.value_counts()"
   ]
  },
  {
   "cell_type": "markdown",
   "id": "b5bd81cc",
   "metadata": {},
   "source": [
    "## simplemente añadimos .plot() y obtenemos la gráfica"
   ]
  },
  {
   "cell_type": "code",
   "execution_count": 16,
   "id": "b04d6484",
   "metadata": {},
   "outputs": [
    {
     "data": {
      "text/plain": [
       "<AxesSubplot:>"
      ]
     },
     "execution_count": 16,
     "metadata": {},
     "output_type": "execute_result"
    },
    {
     "data": {
      "image/png": "[encoded data removed]",
      "text/plain": [
       "<Figure size 432x288 with 1 Axes>"
      ]
     },
     "metadata": {
      "needs_background": "light"
     },
     "output_type": "display_data"
    }
   ],
   "source": [
    "df.y.value_counts().plot(kind=\"bar\")"
   ]
  },
  {
   "cell_type": "markdown",
   "id": "324af5d7",
   "metadata": {},
   "source": [
    "# Imaginamos otro df"
   ]
  },
  {
   "cell_type": "code",
   "execution_count": 17,
   "id": "c7ded89d",
   "metadata": {},
   "outputs": [
    {
     "data": {
      "text/html": [
       "<div>\n",
       "<style scoped>\n",
       "    .dataframe tbody tr th:only-of-type {\n",
       "        vertical-align: middle;\n",
       "    }\n",
       "\n",
       "    .dataframe tbody tr th {\n",
       "        vertical-align: top;\n",
       "    }\n",
       "\n",
       "    .dataframe thead th {\n",
       "        text-align: right;\n",
       "    }\n",
       "</style>\n",
       "<table border=\"1\" class=\"dataframe\">\n",
       "  <thead>\n",
       "    <tr style=\"text-align: right;\">\n",
       "      <th></th>\n",
       "      <th>x</th>\n",
       "      <th>y</th>\n",
       "    </tr>\n",
       "  </thead>\n",
       "  <tbody>\n",
       "    <tr>\n",
       "      <th>0</th>\n",
       "      <td>10</td>\n",
       "      <td>10</td>\n",
       "    </tr>\n",
       "    <tr>\n",
       "      <th>1</th>\n",
       "      <td>20</td>\n",
       "      <td>20</td>\n",
       "    </tr>\n",
       "    <tr>\n",
       "      <th>2</th>\n",
       "      <td>30</td>\n",
       "      <td>10</td>\n",
       "    </tr>\n",
       "    <tr>\n",
       "      <th>3</th>\n",
       "      <td>40</td>\n",
       "      <td>40</td>\n",
       "    </tr>\n",
       "    <tr>\n",
       "      <th>4</th>\n",
       "      <td>50</td>\n",
       "      <td>20</td>\n",
       "    </tr>\n",
       "    <tr>\n",
       "      <th>5</th>\n",
       "      <td>60</td>\n",
       "      <td>30</td>\n",
       "    </tr>\n",
       "    <tr>\n",
       "      <th>6</th>\n",
       "      <td>70</td>\n",
       "      <td>20</td>\n",
       "    </tr>\n",
       "    <tr>\n",
       "      <th>7</th>\n",
       "      <td>80</td>\n",
       "      <td>10</td>\n",
       "    </tr>\n",
       "  </tbody>\n",
       "</table>\n",
       "</div>"
      ],
      "text/plain": [
       "    x   y\n",
       "0  10  10\n",
       "1  20  20\n",
       "2  30  10\n",
       "3  40  40\n",
       "4  50  20\n",
       "5  60  30\n",
       "6  70  20\n",
       "7  80  10"
      ]
     },
     "execution_count": 17,
     "metadata": {},
     "output_type": "execute_result"
    }
   ],
   "source": [
    "df_2 = pd.DataFrame({\"x\":[10,20,30,40,50,60,70,80],\n",
    "                    \"y\":[10,20,10,40,20,30,20,10]})\n",
    "df_2"
   ]
  },
  {
   "cell_type": "code",
   "execution_count": 18,
   "id": "c3837522",
   "metadata": {},
   "outputs": [
    {
     "data": {
      "text/plain": [
       "10    3\n",
       "20    3\n",
       "40    1\n",
       "30    1\n",
       "Name: y, dtype: int64"
      ]
     },
     "execution_count": 18,
     "metadata": {},
     "output_type": "execute_result"
    }
   ],
   "source": [
    "df_2.y.value_counts()"
   ]
  },
  {
   "cell_type": "code",
   "execution_count": 19,
   "id": "8ca195a5",
   "metadata": {},
   "outputs": [
    {
     "data": {
      "image/png": "[encoded data removed]",
      "text/plain": [
       "<Figure size 432x288 with 1 Axes>"
      ]
     },
     "metadata": {
      "needs_background": "light"
     },
     "output_type": "display_data"
    }
   ],
   "source": [
    "df_2.y.value_counts().plot(kind=\"bar\")\n",
    "plt.show()"
   ]
  },
  {
   "cell_type": "markdown",
   "id": "6e2345a3",
   "metadata": {},
   "source": [
    "## Con color diferente..."
   ]
  },
  {
   "cell_type": "code",
   "execution_count": 20,
   "id": "a90b6ebe",
   "metadata": {},
   "outputs": [
    {
     "data": {
      "image/png": "[encoded data removed]",
      "text/plain": [
       "<Figure size 432x288 with 1 Axes>"
      ]
     },
     "metadata": {
      "needs_background": "light"
     },
     "output_type": "display_data"
    }
   ],
   "source": [
    "df_2.y.value_counts().plot(kind=\"bar\",\n",
    "                          color=[\"green\", \"orange\"])\n",
    "plt.show()"
   ]
  },
  {
   "cell_type": "markdown",
   "id": "8d1aa3e4",
   "metadata": {},
   "source": [
    "## O incluso..."
   ]
  },
  {
   "cell_type": "code",
   "execution_count": 21,
   "id": "b002f174",
   "metadata": {},
   "outputs": [
    {
     "data": {
      "image/png": "[encoded data removed]",
      "text/plain": [
       "<Figure size 432x288 with 1 Axes>"
      ]
     },
     "metadata": {
      "needs_background": "light"
     },
     "output_type": "display_data"
    }
   ],
   "source": [
    "df_2.y.value_counts().plot(kind=\"bar\",\n",
    "                          color=[\"blue\", \"green\", \"red\", \"orange\"])\n",
    "plt.show()"
   ]
  },
  {
   "cell_type": "markdown",
   "id": "e9f8c17b",
   "metadata": {},
   "source": [
    "# PRINCIPALES DEPENDENCIAS"
   ]
  },
  {
   "cell_type": "code",
   "execution_count": 22,
   "id": "ed344f80",
   "metadata": {},
   "outputs": [],
   "source": [
    "import pandas as pd\n",
    "import numpy as np\n",
    "import matplotlib.pyplot as plt\n",
    "import seaborn as sns"
   ]
  },
  {
   "cell_type": "markdown",
   "id": "a82b70a8",
   "metadata": {},
   "source": [
    "# DATAFRAME"
   ]
  },
  {
   "cell_type": "code",
   "execution_count": 23,
   "id": "5fa24660",
   "metadata": {},
   "outputs": [
    {
     "data": {
      "text/html": [
       "<div>\n",
       "<style scoped>\n",
       "    .dataframe tbody tr th:only-of-type {\n",
       "        vertical-align: middle;\n",
       "    }\n",
       "\n",
       "    .dataframe tbody tr th {\n",
       "        vertical-align: top;\n",
       "    }\n",
       "\n",
       "    .dataframe thead th {\n",
       "        text-align: right;\n",
       "    }\n",
       "</style>\n",
       "<table border=\"1\" class=\"dataframe\">\n",
       "  <thead>\n",
       "    <tr style=\"text-align: right;\">\n",
       "      <th></th>\n",
       "      <th>Id</th>\n",
       "      <th>SepalLengthCm</th>\n",
       "      <th>SepalWidthCm</th>\n",
       "      <th>PetalLengthCm</th>\n",
       "      <th>PetalWidthCm</th>\n",
       "      <th>Species</th>\n",
       "    </tr>\n",
       "  </thead>\n",
       "  <tbody>\n",
       "    <tr>\n",
       "      <th>0</th>\n",
       "      <td>1</td>\n",
       "      <td>5.1</td>\n",
       "      <td>3.5</td>\n",
       "      <td>1.4</td>\n",
       "      <td>0.2</td>\n",
       "      <td>Iris-setosa</td>\n",
       "    </tr>\n",
       "    <tr>\n",
       "      <th>1</th>\n",
       "      <td>2</td>\n",
       "      <td>4.9</td>\n",
       "      <td>3.0</td>\n",
       "      <td>1.4</td>\n",
       "      <td>0.2</td>\n",
       "      <td>Iris-setosa</td>\n",
       "    </tr>\n",
       "    <tr>\n",
       "      <th>2</th>\n",
       "      <td>3</td>\n",
       "      <td>4.7</td>\n",
       "      <td>3.2</td>\n",
       "      <td>1.3</td>\n",
       "      <td>0.2</td>\n",
       "      <td>Iris-setosa</td>\n",
       "    </tr>\n",
       "    <tr>\n",
       "      <th>3</th>\n",
       "      <td>4</td>\n",
       "      <td>4.6</td>\n",
       "      <td>3.1</td>\n",
       "      <td>1.5</td>\n",
       "      <td>0.2</td>\n",
       "      <td>Iris-setosa</td>\n",
       "    </tr>\n",
       "    <tr>\n",
       "      <th>4</th>\n",
       "      <td>5</td>\n",
       "      <td>5.0</td>\n",
       "      <td>3.6</td>\n",
       "      <td>1.4</td>\n",
       "      <td>0.2</td>\n",
       "      <td>Iris-setosa</td>\n",
       "    </tr>\n",
       "  </tbody>\n",
       "</table>\n",
       "</div>"
      ],
      "text/plain": [
       "   Id  SepalLengthCm  SepalWidthCm  PetalLengthCm  PetalWidthCm      Species\n",
       "0   1            5.1           3.5            1.4           0.2  Iris-setosa\n",
       "1   2            4.9           3.0            1.4           0.2  Iris-setosa\n",
       "2   3            4.7           3.2            1.3           0.2  Iris-setosa\n",
       "3   4            4.6           3.1            1.5           0.2  Iris-setosa\n",
       "4   5            5.0           3.6            1.4           0.2  Iris-setosa"
      ]
     },
     "execution_count": 23,
     "metadata": {},
     "output_type": "execute_result"
    }
   ],
   "source": [
    "df = pd.read_csv(\"/home/danzaga/MasterBD/Iris.csv\")\n",
    "df.head()"
   ]
  },
  {
   "cell_type": "markdown",
   "id": "4de3671d",
   "metadata": {},
   "source": [
    "# GRÁFICO CON PANDAS - PÉTALO"
   ]
  },
  {
   "cell_type": "code",
   "execution_count": 24,
   "id": "95684d7e",
   "metadata": {},
   "outputs": [
    {
     "data": {
      "image/png": "[encoded data removed]",
      "text/plain": [
       "<Figure size 460.8x460.8 with 1 Axes>"
      ]
     },
     "metadata": {
      "needs_background": "light"
     },
     "output_type": "display_data"
    }
   ],
   "source": [
    "# Gráfico Pétalo - Longitud vs Ancho\n",
    "figura = df[df.Species == 'Iris-setosa'].plot(kind='scatter',\n",
    "                                             x='PetalLengthCm', y='PetalWidthCm',\n",
    "                                             color='blue', label='Setosa',\n",
    "                                             figsize=(6.4,6.4))\n",
    "df[df.Species == 'Iris-versicolor'].plot(kind='scatter',\n",
    "                                         x='PetalLengthCm', y='PetalWidthCm',\n",
    "                                         color='orange', label='Versicolor',\n",
    "                                         ax=figura)\n",
    "df[df.Species == 'Iris-virginica'].plot(kind='scatter',\n",
    "                                         x='PetalLengthCm', y='PetalWidthCm',\n",
    "                                         color='green', label='Virginica',\n",
    "                                         ax=figura)\n",
    "figura.set_xlabel('Logitud')\n",
    "figura.set_ylabel('Anchura')\n",
    "figura.set_title('Gráfica para el Pétalo - con Pandas')\n",
    "plt.show()"
   ]
  },
  {
   "cell_type": "markdown",
   "id": "85f23e7a",
   "metadata": {},
   "source": [
    "# GRÁFICO CON MATPLOTLIB-PÉTALO"
   ]
  },
  {
   "cell_type": "code",
   "execution_count": 25,
   "id": "e4943c84",
   "metadata": {},
   "outputs": [
    {
     "data": {
      "image/png": "[encoded data removed]",
      "text/plain": [
       "<Figure size 460.8x460.8 with 1 Axes>"
      ]
     },
     "metadata": {
      "needs_background": "light"
     },
     "output_type": "display_data"
    }
   ],
   "source": [
    "df_set = df[df.Species==\"Iris-setosa\"]\n",
    "df_vers= df[df.Species==\"Iris-versicolor\"]\n",
    "df_virg= df[df.Species==\"Iris-virginica\"]\n",
    "\n",
    "fig = plt.figure(figsize=(6.4,6.4))\n",
    "ax1 = fig.add_subplot(111)\n",
    "ax1.scatter(df_set[\"PetalLengthCm\"],  df_set[\"PetalWidthCm\"],  s=10, c='blue', label='Setosa')\n",
    "ax1.scatter(df_vers[\"PetalLengthCm\"], df_vers[\"PetalWidthCm\"], s=10, c='orange', label='Versicolor')\n",
    "ax1.scatter(df_virg[\"PetalLengthCm\"], df_virg[\"PetalWidthCm\"], s=10, c='green', label='Virginica')\n",
    "plt.legend(loc='upper left');\n",
    "plt.title(\"Gráfica para el pétalo - con Matplotlib\")\n",
    "plt.xlabel(\"Longitud\")\n",
    "plt.ylabel(\"Anchura\")\n",
    "plt.show()"
   ]
  },
  {
   "cell_type": "markdown",
   "id": "09c97f27",
   "metadata": {},
   "source": [
    "# GRÁFICO CON SEABORN - PÉTALO"
   ]
  },
  {
   "cell_type": "code",
   "execution_count": 26,
   "id": "79baac23",
   "metadata": {},
   "outputs": [
    {
     "data": {
      "image/png": "[encoded data removed]",
      "text/plain": [
       "<Figure size 564.05x460.8 with 1 Axes>"
      ]
     },
     "metadata": {
      "needs_background": "light"
     },
     "output_type": "display_data"
    }
   ],
   "source": [
    "# http://seaborn.pydata.org/installing.html\n",
    "# !pip install seaborn\n",
    "\n",
    "# Para el pétalo\n",
    "sns.FacetGrid(df, hue=\"Species\", height=6.4) \\\n",
    "   .map(plt.scatter, \"PetalLengthCm\", \"PetalWidthCm\")  \\\n",
    "   .add_legend()\n",
    "\n",
    "plt.title(\"Gráfica para el pétalo - con Seaborn\")\n",
    "plt.show()"
   ]
  },
  {
   "cell_type": "markdown",
   "id": "de0a4f20",
   "metadata": {},
   "source": [
    "# GRÁFICO PANDAS - SEPALO"
   ]
  },
  {
   "cell_type": "code",
   "execution_count": 27,
   "id": "58d1e2c0",
   "metadata": {},
   "outputs": [
    {
     "data": {
      "image/png": "[encoded data removed]",
      "text/plain": [
       "<Figure size 460.8x460.8 with 1 Axes>"
      ]
     },
     "metadata": {
      "needs_background": "light"
     },
     "output_type": "display_data"
    }
   ],
   "source": [
    "# Gráfico Sépalo - Longitud vs Ancho\n",
    "figura = df[df.Species == 'Iris-setosa'].plot(kind='scatter',\n",
    "                                             x='SepalLengthCm', y='SepalWidthCm',\n",
    "                                             color='blue', label='Setosa',\n",
    "                                             figsize=(6.4,6.4))\n",
    "df[df.Species == 'Iris-versicolor'].plot(kind='scatter',\n",
    "                                         x='SepalLengthCm', y='SepalWidthCm',\n",
    "                                         color='orange', label='Versicolor',\n",
    "                                         ax=figura)\n",
    "df[df.Species == 'Iris-virginica'].plot(kind='scatter',\n",
    "                                         x='SepalLengthCm', y='SepalWidthCm',\n",
    "                                         color='green', label='Virginica',\n",
    "                                         ax=figura)\n",
    "figura.set_xlabel('Logitud')\n",
    "figura.set_ylabel('Anchura')\n",
    "figura.set_title('Gráfica para el Sépalo - con Pandas')\n",
    "plt.show()"
   ]
  },
  {
   "cell_type": "markdown",
   "id": "c4256ee9",
   "metadata": {},
   "source": [
    "# GRÁFICO MATPLOTLIB - SÉPALO"
   ]
  },
  {
   "cell_type": "code",
   "execution_count": 28,
   "id": "4417b954",
   "metadata": {},
   "outputs": [
    {
     "data": {
      "image/png": "[encoded data removed]",
      "text/plain": [
       "<Figure size 460.8x460.8 with 1 Axes>"
      ]
     },
     "metadata": {
      "needs_background": "light"
     },
     "output_type": "display_data"
    }
   ],
   "source": [
    "df_set = df[df.Species==\"Iris-setosa\"]\n",
    "df_vers= df[df.Species==\"Iris-versicolor\"]\n",
    "df_virg= df[df.Species==\"Iris-virginica\"]\n",
    "\n",
    "fig = plt.figure(figsize=(6.4,6.4))\n",
    "ax1 = fig.add_subplot(111)\n",
    "ax1.scatter(df_set[\"SepalLengthCm\"],  df_set[\"SepalWidthCm\"],  s=10, c='blue', label='Setosa')\n",
    "ax1.scatter(df_vers[\"SepalLengthCm\"], df_vers[\"SepalWidthCm\"], s=10, c='orange', label='Versicolor')\n",
    "ax1.scatter(df_virg[\"SepalLengthCm\"], df_virg[\"SepalWidthCm\"], s=10, c='green', label='Virginica')\n",
    "plt.legend(loc='upper left');\n",
    "plt.title(\"Gráfica para el Sépalo - con Matplotlib\")\n",
    "plt.xlabel(\"Longitud\")\n",
    "plt.ylabel(\"Anchura\")\n",
    "plt.show()"
   ]
  },
  {
   "cell_type": "markdown",
   "id": "61a9bef7",
   "metadata": {},
   "source": [
    "# GRÁFICO SEABORN - SÉPALO"
   ]
  },
  {
   "cell_type": "code",
   "execution_count": 29,
   "id": "a8431b54",
   "metadata": {},
   "outputs": [
    {
     "data": {
      "image/png": "[encoded data removed]",
      "text/plain": [
       "<Figure size 564.05x460.8 with 1 Axes>"
      ]
     },
     "metadata": {
      "needs_background": "light"
     },
     "output_type": "display_data"
    }
   ],
   "source": [
    "# Para el Sépalo\n",
    "sns.FacetGrid(df, hue=\"Species\", height=6.4) \\\n",
    "   .map(plt.scatter, \"SepalLengthCm\", \"SepalWidthCm\")  \\\n",
    "   .add_legend()  \\\n",
    "   .set(title=\"Gráfica para el Sépalo - con Seaborn\")\n",
    "\n",
    "# plt.title(\"Species en función del largo y ancho del sépalo\")\n",
    "plt.show()"
   ]
  },
  {
   "cell_type": "code",
   "execution_count": null,
   "id": "b01afa6d",
   "metadata": {},
   "outputs": [],
   "source": []
  },
  {
   "cell_type": "markdown",
   "id": "fec123d8",
   "metadata": {},
   "source": [
    "# Probando plotnine.ggplot()"
   ]
  },
  {
   "cell_type": "code",
   "execution_count": 30,
   "id": "1f13c203",
   "metadata": {},
   "outputs": [],
   "source": [
    "# Instalamos la libreria con \"pip install ggplot\"\n",
    "import plotnine as p9\n",
    "import pandas as pd"
   ]
  },
  {
   "cell_type": "code",
   "execution_count": 31,
   "id": "92b8b283",
   "metadata": {},
   "outputs": [
    {
     "data": {
      "text/html": [
       "<div>\n",
       "<style scoped>\n",
       "    .dataframe tbody tr th:only-of-type {\n",
       "        vertical-align: middle;\n",
       "    }\n",
       "\n",
       "    .dataframe tbody tr th {\n",
       "        vertical-align: top;\n",
       "    }\n",
       "\n",
       "    .dataframe thead th {\n",
       "        text-align: right;\n",
       "    }\n",
       "</style>\n",
       "<table border=\"1\" class=\"dataframe\">\n",
       "  <thead>\n",
       "    <tr style=\"text-align: right;\">\n",
       "      <th></th>\n",
       "      <th>Id</th>\n",
       "      <th>SepalLengthCm</th>\n",
       "      <th>SepalWidthCm</th>\n",
       "      <th>PetalLengthCm</th>\n",
       "      <th>PetalWidthCm</th>\n",
       "      <th>Species</th>\n",
       "    </tr>\n",
       "  </thead>\n",
       "  <tbody>\n",
       "    <tr>\n",
       "      <th>0</th>\n",
       "      <td>1</td>\n",
       "      <td>5.1</td>\n",
       "      <td>3.5</td>\n",
       "      <td>1.4</td>\n",
       "      <td>0.2</td>\n",
       "      <td>Iris-setosa</td>\n",
       "    </tr>\n",
       "    <tr>\n",
       "      <th>1</th>\n",
       "      <td>2</td>\n",
       "      <td>4.9</td>\n",
       "      <td>3.0</td>\n",
       "      <td>1.4</td>\n",
       "      <td>0.2</td>\n",
       "      <td>Iris-setosa</td>\n",
       "    </tr>\n",
       "    <tr>\n",
       "      <th>2</th>\n",
       "      <td>3</td>\n",
       "      <td>4.7</td>\n",
       "      <td>3.2</td>\n",
       "      <td>1.3</td>\n",
       "      <td>0.2</td>\n",
       "      <td>Iris-setosa</td>\n",
       "    </tr>\n",
       "    <tr>\n",
       "      <th>3</th>\n",
       "      <td>4</td>\n",
       "      <td>4.6</td>\n",
       "      <td>3.1</td>\n",
       "      <td>1.5</td>\n",
       "      <td>0.2</td>\n",
       "      <td>Iris-setosa</td>\n",
       "    </tr>\n",
       "    <tr>\n",
       "      <th>4</th>\n",
       "      <td>5</td>\n",
       "      <td>5.0</td>\n",
       "      <td>3.6</td>\n",
       "      <td>1.4</td>\n",
       "      <td>0.2</td>\n",
       "      <td>Iris-setosa</td>\n",
       "    </tr>\n",
       "  </tbody>\n",
       "</table>\n",
       "</div>"
      ],
      "text/plain": [
       "   Id  SepalLengthCm  SepalWidthCm  PetalLengthCm  PetalWidthCm      Species\n",
       "0   1            5.1           3.5            1.4           0.2  Iris-setosa\n",
       "1   2            4.9           3.0            1.4           0.2  Iris-setosa\n",
       "2   3            4.7           3.2            1.3           0.2  Iris-setosa\n",
       "3   4            4.6           3.1            1.5           0.2  Iris-setosa\n",
       "4   5            5.0           3.6            1.4           0.2  Iris-setosa"
      ]
     },
     "execution_count": 31,
     "metadata": {},
     "output_type": "execute_result"
    }
   ],
   "source": [
    "df = pd.read_csv(\"/home/danzaga/MasterBD/Iris.csv\")\n",
    "df.head()"
   ]
  },
  {
   "cell_type": "markdown",
   "id": "1462465c",
   "metadata": {},
   "source": [
    "# Gráficos usando la librería plotnine.ggplot()"
   ]
  },
  {
   "cell_type": "markdown",
   "id": "a7fba223",
   "metadata": {},
   "source": [
    "## Gráfica del Sépalo con ggplot"
   ]
  },
  {
   "cell_type": "code",
   "execution_count": 32,
   "id": "874b8394",
   "metadata": {},
   "outputs": [
    {
     "data": {
      "image/png": "[encoded data removed]",
      "text/plain": [
       "<Figure size 640x480 with 1 Axes>"
      ]
     },
     "metadata": {},
     "output_type": "display_data"
    },
    {
     "data": {
      "text/plain": [
       "<ggplot: (8758384798877)>"
      ]
     },
     "execution_count": 32,
     "metadata": {},
     "output_type": "execute_result"
    }
   ],
   "source": [
    "# Grafíca sépalo\n",
    "p9.ggplot(df, mapping=p9.aes(x='SepalLengthCm',  y='SepalWidthCm', \n",
    "                             color = 'Species')) + p9.geom_point()"
   ]
  },
  {
   "cell_type": "markdown",
   "id": "09ad7148",
   "metadata": {},
   "source": [
    "## Gráfica del Pétalo con ggplot"
   ]
  },
  {
   "cell_type": "code",
   "execution_count": 33,
   "id": "66e9bddc",
   "metadata": {},
   "outputs": [
    {
     "data": {
      "image/png": "[encoded data removed]",
      "text/plain": [
       "<Figure size 640x480 with 1 Axes>"
      ]
     },
     "metadata": {},
     "output_type": "display_data"
    },
    {
     "data": {
      "text/plain": [
       "<ggplot: (8758384732666)>"
      ]
     },
     "execution_count": 33,
     "metadata": {},
     "output_type": "execute_result"
    }
   ],
   "source": [
    "# Grafíca pétalo\n",
    "p9.ggplot(df, mapping=p9.aes(x='PetalLengthCm',  y='PetalWidthCm', \n",
    "                             color = 'Species')) + p9.geom_point()"
   ]
  },
  {
   "cell_type": "code",
   "execution_count": null,
   "id": "1e739bfa",
   "metadata": {},
   "outputs": [],
   "source": []
  },
  {
   "cell_type": "markdown",
   "id": "151bbf19",
   "metadata": {},
   "source": [
    "#### ¿ Existe alguna forma de programar, o de integrar Python con Tableau ?"
   ]
  },
  {
   "cell_type": "markdown",
   "id": "00b07462",
   "metadata": {},
   "source": [
    "##### Si, con la librería TabPy. Es necesario configurar el servidor de Tableau en la dirección \"http://localhost:9004/\". Estuve probando desde la web oficial de tableau y carge el \"iris.csv\" para posteriormente crear la gráfica del pétalo y me resulto sencilllo y rápido. En local arranque el servidor con el comando \"Tabpy\" pero no configure la aplicación de Tableau, no llege a instalarla en linux, decantandome por usar la web de Tableau.\n",
    "\n",
    "##### Esta ifnormación la obtuve de:\n",
    "##### https://medium.com/@cristianrrc94/integraci%C3%B3n-de-tableau-con-python-3f95fa95664\n",
    "##### Lo que necesitamos hacer es instalar la librería PyTab. Una vez instalado la distribución TabPy, habrá que navegar hasta el código fuente contenido en / site-packages y luego ir al directorio del servidor tabpy (en mi caso, Windows con Anaconda 3 instalado en la ubicación predeterminada, / anaconda3 / lib / python3.7 / site-packages / tabpy_server). Desde allí, ejecute sh startup.sh o python tabpy.py para iniciar un servidor. Debe indicar a Tableau que esté constantemente el puerto 9004, que es el medio por donde Tableau y Python. Finalmente, en Tableau: Vaya a Ayuda → Configuración y rendimiento → Administrar conexión de servicio externo … Ingrese el Servidor (localhost si ejecuta TabPy en la misma computadora) y el Puerto (el valor predeterminado es 9004)."
   ]
  },
  {
   "cell_type": "code",
   "execution_count": null,
   "id": "a2a1f05c",
   "metadata": {},
   "outputs": [],
   "source": []
  },
  {
   "cell_type": "markdown",
   "id": "3d997f03",
   "metadata": {},
   "source": [
    "# PROBANDO BOKEH"
   ]
  },
  {
   "cell_type": "markdown",
   "id": "f1e68dcb",
   "metadata": {},
   "source": [
    "## EJEMPLO IRIS PÉTALO"
   ]
  },
  {
   "cell_type": "code",
   "execution_count": 42,
   "id": "41bdc1be",
   "metadata": {},
   "outputs": [],
   "source": [
    "# https://docs.bokeh.org/en/test/docs/gallery/iris.html\n",
    "\n",
    "from bokeh.plotting import figure, show\n",
    "from bokeh.sampledata.iris import flowers as iris\n",
    "\n",
    "colormap = {'setosa': 'blue', 'versicolor': 'orange', 'virginica': 'green'}\n",
    "colors = [colormap[x] for x in iris['species']]\n",
    "\n",
    "p = figure(title=\"Iris Pétalo\")\n",
    "p.xaxis.axis_label = 'Petal Length'\n",
    "p.yaxis.axis_label = 'Petal Width'\n",
    "\n",
    "p.scatter(iris[\"petal_length\"], iris[\"petal_width\"],\n",
    "          color=colors, size=10)\n",
    "\n",
    "show(p)"
   ]
  }
 ],
 "metadata": {
  "kernelspec": {
   "display_name": "Python 3 (ipykernel)",
   "language": "python",
   "name": "python3"
  },
  "language_info": {
   "codemirror_mode": {
    "name": "ipython",
    "version": 3
   },
   "file_extension": ".py",
   "mimetype": "text/x-python",
   "name": "python",
   "nbconvert_exporter": "python",
   "pygments_lexer": "ipython3",
   "version": "3.9.2"
  }
 },
 "nbformat": 4,
 "nbformat_minor": 5
}
