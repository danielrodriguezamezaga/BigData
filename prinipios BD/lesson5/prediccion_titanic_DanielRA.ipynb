{
 "cells": [
  {
   "cell_type": "markdown",
   "id": "32b6db0e",
   "metadata": {},
   "source": [
    "# Investigación para mejorar el resultado del reto Kaggle\n",
    "## Titanic-DataSet"
   ]
  },
  {
   "cell_type": "code",
   "execution_count": 1,
   "id": "2d277d32",
   "metadata": {},
   "outputs": [],
   "source": [
    "import numpy as np \n",
    "import pandas as pd "
   ]
  },
  {
   "cell_type": "code",
   "execution_count": 2,
   "id": "01b41ac3",
   "metadata": {},
   "outputs": [
    {
     "data": {
      "text/html": [
       "<div>\n",
       "<style scoped>\n",
       "    .dataframe tbody tr th:only-of-type {\n",
       "        vertical-align: middle;\n",
       "    }\n",
       "\n",
       "    .dataframe tbody tr th {\n",
       "        vertical-align: top;\n",
       "    }\n",
       "\n",
       "    .dataframe thead th {\n",
       "        text-align: right;\n",
       "    }\n",
       "</style>\n",
       "<table border=\"1\" class=\"dataframe\">\n",
       "  <thead>\n",
       "    <tr style=\"text-align: right;\">\n",
       "      <th></th>\n",
       "      <th>PassengerId</th>\n",
       "      <th>Survived</th>\n",
       "      <th>Pclass</th>\n",
       "      <th>Name</th>\n",
       "      <th>Sex</th>\n",
       "      <th>Age</th>\n",
       "      <th>SibSp</th>\n",
       "      <th>Parch</th>\n",
       "      <th>Ticket</th>\n",
       "      <th>Fare</th>\n",
       "      <th>Cabin</th>\n",
       "      <th>Embarked</th>\n",
       "    </tr>\n",
       "  </thead>\n",
       "  <tbody>\n",
       "    <tr>\n",
       "      <th>0</th>\n",
       "      <td>1</td>\n",
       "      <td>0</td>\n",
       "      <td>3</td>\n",
       "      <td>Braund, Mr. Owen Harris</td>\n",
       "      <td>male</td>\n",
       "      <td>22.0</td>\n",
       "      <td>1</td>\n",
       "      <td>0</td>\n",
       "      <td>A/5 21171</td>\n",
       "      <td>7.2500</td>\n",
       "      <td>NaN</td>\n",
       "      <td>S</td>\n",
       "    </tr>\n",
       "    <tr>\n",
       "      <th>1</th>\n",
       "      <td>2</td>\n",
       "      <td>1</td>\n",
       "      <td>1</td>\n",
       "      <td>Cumings, Mrs. John Bradley (Florence Briggs Th...</td>\n",
       "      <td>female</td>\n",
       "      <td>38.0</td>\n",
       "      <td>1</td>\n",
       "      <td>0</td>\n",
       "      <td>PC 17599</td>\n",
       "      <td>71.2833</td>\n",
       "      <td>C85</td>\n",
       "      <td>C</td>\n",
       "    </tr>\n",
       "    <tr>\n",
       "      <th>2</th>\n",
       "      <td>3</td>\n",
       "      <td>1</td>\n",
       "      <td>3</td>\n",
       "      <td>Heikkinen, Miss. Laina</td>\n",
       "      <td>female</td>\n",
       "      <td>26.0</td>\n",
       "      <td>0</td>\n",
       "      <td>0</td>\n",
       "      <td>STON/O2. 3101282</td>\n",
       "      <td>7.9250</td>\n",
       "      <td>NaN</td>\n",
       "      <td>S</td>\n",
       "    </tr>\n",
       "    <tr>\n",
       "      <th>3</th>\n",
       "      <td>4</td>\n",
       "      <td>1</td>\n",
       "      <td>1</td>\n",
       "      <td>Futrelle, Mrs. Jacques Heath (Lily May Peel)</td>\n",
       "      <td>female</td>\n",
       "      <td>35.0</td>\n",
       "      <td>1</td>\n",
       "      <td>0</td>\n",
       "      <td>113803</td>\n",
       "      <td>53.1000</td>\n",
       "      <td>C123</td>\n",
       "      <td>S</td>\n",
       "    </tr>\n",
       "    <tr>\n",
       "      <th>4</th>\n",
       "      <td>5</td>\n",
       "      <td>0</td>\n",
       "      <td>3</td>\n",
       "      <td>Allen, Mr. William Henry</td>\n",
       "      <td>male</td>\n",
       "      <td>35.0</td>\n",
       "      <td>0</td>\n",
       "      <td>0</td>\n",
       "      <td>373450</td>\n",
       "      <td>8.0500</td>\n",
       "      <td>NaN</td>\n",
       "      <td>S</td>\n",
       "    </tr>\n",
       "  </tbody>\n",
       "</table>\n",
       "</div>"
      ],
      "text/plain": [
       "   PassengerId  Survived  Pclass  \\\n",
       "0            1         0       3   \n",
       "1            2         1       1   \n",
       "2            3         1       3   \n",
       "3            4         1       1   \n",
       "4            5         0       3   \n",
       "\n",
       "                                                Name     Sex   Age  SibSp  \\\n",
       "0                            Braund, Mr. Owen Harris    male  22.0      1   \n",
       "1  Cumings, Mrs. John Bradley (Florence Briggs Th...  female  38.0      1   \n",
       "2                             Heikkinen, Miss. Laina  female  26.0      0   \n",
       "3       Futrelle, Mrs. Jacques Heath (Lily May Peel)  female  35.0      1   \n",
       "4                           Allen, Mr. William Henry    male  35.0      0   \n",
       "\n",
       "   Parch            Ticket     Fare Cabin Embarked  \n",
       "0      0         A/5 21171   7.2500   NaN        S  \n",
       "1      0          PC 17599  71.2833   C85        C  \n",
       "2      0  STON/O2. 3101282   7.9250   NaN        S  \n",
       "3      0            113803  53.1000  C123        S  \n",
       "4      0            373450   8.0500   NaN        S  "
      ]
     },
     "execution_count": 2,
     "metadata": {},
     "output_type": "execute_result"
    }
   ],
   "source": [
    "df = pd.read_csv('train.csv')\n",
    "df.head()"
   ]
  },
  {
   "cell_type": "markdown",
   "id": "8b293e2b",
   "metadata": {},
   "source": [
    "## Después de pensar que datos seleccionar\n",
    "\n",
    "### PassengerId - No depende de sobrevivir\n",
    "### Pclacss - Es necesario para la predicción -Seleccionada\n",
    "### Name - No es útil \n",
    "### Sex - Las mujeres tienen la primera oportunidad -Seleccionada\n",
    "### Age - La edad depende de la supervivencia -Seleccionada\n",
    "### SibSp - Tener hermanos/cónyuge depende de la supervivencia -Seleccionada\n",
    "### Parch - El número de hijos depende de la supervivencia - Seleccionada\n",
    "### Ticket - El billete no afecta\n",
    "### Fare - Un billete más caro tiene más posibilidades de sobrevivir -Seleccionada\n",
    "### Cabin - No afecta a los supervivientes.\n",
    "### Embarked - Crea un impacto en los supervivientes -Seleccionada\n"
   ]
  },
  {
   "cell_type": "code",
   "execution_count": 3,
   "id": "ecc30ea9",
   "metadata": {},
   "outputs": [],
   "source": [
    "# Nos quedamos con las seleccionadas\n",
    "seleccion = ['Pclass','Sex','Age','SibSp','Parch','Fare','Embarked']\n",
    "x = df[seleccion]\n",
    "y = df.Survived"
   ]
  },
  {
   "cell_type": "code",
   "execution_count": 4,
   "id": "108aa8bb",
   "metadata": {},
   "outputs": [],
   "source": [
    "df.Age = df.Age.fillna(df.Age.mean())\n",
    "df.Embarked = df.Embarked.fillna(\"S\")"
   ]
  },
  {
   "cell_type": "code",
   "execution_count": 5,
   "id": "22e84c8e",
   "metadata": {},
   "outputs": [
    {
     "name": "stderr",
     "output_type": "stream",
     "text": [
      "/tmp/ipykernel_16518/2038870102.py:13: SettingWithCopyWarning: \n",
      "A value is trying to be set on a copy of a slice from a DataFrame.\n",
      "Try using .loc[row_indexer,col_indexer] = value instead\n",
      "\n",
      "See the caveats in the documentation: https://pandas.pydata.org/pandas-docs/stable/user_guide/indexing.html#returning-a-view-versus-a-copy\n",
      "  x.Sex = encoder.fit_transform(x.Sex)\n",
      "/tmp/ipykernel_16518/2038870102.py:14: SettingWithCopyWarning: \n",
      "A value is trying to be set on a copy of a slice from a DataFrame.\n",
      "Try using .loc[row_indexer,col_indexer] = value instead\n",
      "\n",
      "See the caveats in the documentation: https://pandas.pydata.org/pandas-docs/stable/user_guide/indexing.html#returning-a-view-versus-a-copy\n",
      "  x.Embarked = encoder.fit_transform(x.Embarked)\n"
     ]
    }
   ],
   "source": [
    "# Estuve investigando sobre esta parte del código donde transformo los string en enteros.\n",
    "\n",
    "# Me da un warning avisando que los cambios los aplico a una copia del DataFrame,\n",
    "# como es lo que quiero hacer dejo el warning no afecta a mi código.\n",
    "# Me gustaría saber como evitarlo para dejar un código más limpio pero no encontre solución\n",
    "\n",
    "# Enlaces de interés:\n",
    "# https://interactivechaos.com/es/manual/tutorial-de-machine-learning/label-encoding\n",
    "# https://es.stackoverflow.com/questions/253084/settingwithcopywarning-python-pandas\n",
    "\n",
    "from sklearn.preprocessing import LabelEncoder\n",
    "encoder = LabelEncoder()\n",
    "x.Sex = encoder.fit_transform(x.Sex)\n",
    "x.Embarked = encoder.fit_transform(x.Embarked)"
   ]
  },
  {
   "cell_type": "markdown",
   "id": "826d2cda",
   "metadata": {},
   "source": [
    "### Entrenamiento"
   ]
  },
  {
   "cell_type": "markdown",
   "id": "10600218",
   "metadata": {},
   "source": [
    "### Parámetros \"train_test_split\" usados\n",
    "#### test_size -->entre 0,0 y 1,0 y representar la proporción del conjunto de datos que se incluirá en la división de prueba.\n",
    "#### random_state --> Permite establecer la semilla del generador aleatorio(aún no lo entiendo pero investigando vi a muchas personas usar el \"42\")"
   ]
  },
  {
   "cell_type": "code",
   "execution_count": 6,
   "id": "7f3f61ff",
   "metadata": {},
   "outputs": [],
   "source": [
    "from sklearn.model_selection import train_test_split \n",
    "x_train,x_test,y_train,y_test = train_test_split(x, y, test_size=0.2, random_state=42)"
   ]
  },
  {
   "cell_type": "markdown",
   "id": "90c96f9e",
   "metadata": {},
   "source": [
    "#### ¿Por qué Random_state=42? \n",
    "#### Si no establece random_state a 42, cada vez que ejecute su código de nuevo, generará un conjunto de prueba diferente. Con el tiempo, usted (o su algoritmo de aprendizaje automático) será capaz de ver el conjunto de datos, que desea evitar.\n",
    "\n",
    "##### https://thecleverprogrammer.com/2020/12/17/why-random_state42-in-machine-learning/"
   ]
  },
  {
   "cell_type": "markdown",
   "id": "0c2f5518",
   "metadata": {},
   "source": [
    "# XGBClassifier algoritmo de predicción"
   ]
  },
  {
   "cell_type": "code",
   "execution_count": 18,
   "id": "5f0c1089",
   "metadata": {},
   "outputs": [
    {
     "data": {
      "text/plain": [
       "0.8547486033519553"
      ]
     },
     "execution_count": 18,
     "metadata": {},
     "output_type": "execute_result"
    }
   ],
   "source": [
    "# https://xgboost.readthedocs.io/en/stable/python/python_api.html\n",
    "# colsample_bylevel: número de variables a sortear por cada nuevo nivel.\n",
    "# colsample_bytree: número de variables a sortear por cada iteración.\n",
    "# gamma: Reducción mínima de pérdidas necesaria para realizar una \n",
    "# partición adicional en un nodo de la hoja del árbol.\n",
    "# max_depth: profundidad máxima del árbol.\n",
    "# min_child_weight: Suma mínima de peso de instancia(hessian) necesaria en un hijo.\n",
    "# n_estimators: El número de rondas de un modelo \n",
    "# nthread: por defecto el número máximo de hilos disponibles si no se establece\n",
    "# random_state: Semilla de números aleatorios.\n",
    "from xgboost import XGBClassifier\n",
    "classifier = XGBClassifier(colsample_bylevel= 0.9,\n",
    "                    colsample_bytree = 0.9, # Sorteamos el 50 % de las variables\n",
    "                    gamma=0.9,\n",
    "                    max_depth= 10,\n",
    "                    min_child_weight= 1,\n",
    "                    n_estimators= 10,\n",
    "                    nthread= 6,\n",
    "                    random_state= 7)\n",
    "classifier.fit(x_train,y_train)\n",
    "classifier.score(x_test,y_test)\n"
   ]
  },
  {
   "cell_type": "markdown",
   "id": "2fa5a36d",
   "metadata": {},
   "source": [
    "#### Despúes de investigar con este algoritmo **XgBoost** mi opinión es mala y buena, dado que si no sabes usar sus parametros, que son muchos, puedes sacar una muestra que se aleja de la verdad consigiendo parametros muy altos sin sentido. Probe a modificar \"colsample_by_tree\" entre otros parametros y aumentaron mucho el resultado pero no me parece lógico ya que no compredo bien todos los parametros. Es la segunda vez que invesitgo sobre algoritomos de predicción, me gusto mucho y llamó mi atención. \n",
    "#### La parte que creo buena del algoritmo es que si lo entiendes en profundidad es un algoritmo muy completo."
   ]
  },
  {
   "cell_type": "code",
   "execution_count": 19,
   "id": "599b36df",
   "metadata": {},
   "outputs": [],
   "source": [
    "test_data = pd.read_csv('test.csv')\n",
    "test_x = test_data[seleccion]"
   ]
  },
  {
   "cell_type": "code",
   "execution_count": 20,
   "id": "bf3e5cbb",
   "metadata": {},
   "outputs": [
    {
     "name": "stderr",
     "output_type": "stream",
     "text": [
      "/tmp/ipykernel_16518/3772690814.py:1: SettingWithCopyWarning: \n",
      "A value is trying to be set on a copy of a slice from a DataFrame.\n",
      "Try using .loc[row_indexer,col_indexer] = value instead\n",
      "\n",
      "See the caveats in the documentation: https://pandas.pydata.org/pandas-docs/stable/user_guide/indexing.html#returning-a-view-versus-a-copy\n",
      "  test_x.Age = test_x.Age.fillna(test_x.Age.median())\n",
      "/tmp/ipykernel_16518/3772690814.py:2: SettingWithCopyWarning: \n",
      "A value is trying to be set on a copy of a slice from a DataFrame.\n",
      "Try using .loc[row_indexer,col_indexer] = value instead\n",
      "\n",
      "See the caveats in the documentation: https://pandas.pydata.org/pandas-docs/stable/user_guide/indexing.html#returning-a-view-versus-a-copy\n",
      "  test_x.Fare = test_x.Fare.fillna(test_x.Fare.median())\n"
     ]
    }
   ],
   "source": [
    "test_x.Age = test_x.Age.fillna(test_x.Age.median())\n",
    "test_x.Fare = test_x.Fare.fillna(test_x.Fare.median())"
   ]
  },
  {
   "cell_type": "code",
   "execution_count": 21,
   "id": "f88944ef",
   "metadata": {},
   "outputs": [
    {
     "name": "stderr",
     "output_type": "stream",
     "text": [
      "/tmp/ipykernel_16518/2222074209.py:1: SettingWithCopyWarning: \n",
      "A value is trying to be set on a copy of a slice from a DataFrame.\n",
      "Try using .loc[row_indexer,col_indexer] = value instead\n",
      "\n",
      "See the caveats in the documentation: https://pandas.pydata.org/pandas-docs/stable/user_guide/indexing.html#returning-a-view-versus-a-copy\n",
      "  test_x.Sex = encoder.fit_transform(test_x.Sex)\n",
      "/tmp/ipykernel_16518/2222074209.py:2: SettingWithCopyWarning: \n",
      "A value is trying to be set on a copy of a slice from a DataFrame.\n",
      "Try using .loc[row_indexer,col_indexer] = value instead\n",
      "\n",
      "See the caveats in the documentation: https://pandas.pydata.org/pandas-docs/stable/user_guide/indexing.html#returning-a-view-versus-a-copy\n",
      "  test_x.Embarked = encoder.fit_transform(test_x.Embarked)\n"
     ]
    }
   ],
   "source": [
    "test_x.Sex = encoder.fit_transform(test_x.Sex)\n",
    "test_x.Embarked = encoder.fit_transform(test_x.Embarked)"
   ]
  },
  {
   "cell_type": "code",
   "execution_count": 22,
   "id": "eaf225ba",
   "metadata": {},
   "outputs": [],
   "source": [
    "prediction = classifier.predict(test_x)"
   ]
  },
  {
   "cell_type": "markdown",
   "id": "f497209a",
   "metadata": {},
   "source": [
    "# Guardamos nuestro modelo para enviarlo"
   ]
  },
  {
   "cell_type": "code",
   "execution_count": 23,
   "id": "a3232e65",
   "metadata": {},
   "outputs": [
    {
     "data": {
      "text/html": [
       "<div>\n",
       "<style scoped>\n",
       "    .dataframe tbody tr th:only-of-type {\n",
       "        vertical-align: middle;\n",
       "    }\n",
       "\n",
       "    .dataframe tbody tr th {\n",
       "        vertical-align: top;\n",
       "    }\n",
       "\n",
       "    .dataframe thead th {\n",
       "        text-align: right;\n",
       "    }\n",
       "</style>\n",
       "<table border=\"1\" class=\"dataframe\">\n",
       "  <thead>\n",
       "    <tr style=\"text-align: right;\">\n",
       "      <th></th>\n",
       "      <th>PassengerId</th>\n",
       "      <th>Survived</th>\n",
       "    </tr>\n",
       "  </thead>\n",
       "  <tbody>\n",
       "    <tr>\n",
       "      <th>0</th>\n",
       "      <td>892</td>\n",
       "      <td>0</td>\n",
       "    </tr>\n",
       "    <tr>\n",
       "      <th>1</th>\n",
       "      <td>893</td>\n",
       "      <td>0</td>\n",
       "    </tr>\n",
       "    <tr>\n",
       "      <th>2</th>\n",
       "      <td>894</td>\n",
       "      <td>0</td>\n",
       "    </tr>\n",
       "    <tr>\n",
       "      <th>3</th>\n",
       "      <td>895</td>\n",
       "      <td>0</td>\n",
       "    </tr>\n",
       "    <tr>\n",
       "      <th>4</th>\n",
       "      <td>896</td>\n",
       "      <td>0</td>\n",
       "    </tr>\n",
       "  </tbody>\n",
       "</table>\n",
       "</div>"
      ],
      "text/plain": [
       "   PassengerId  Survived\n",
       "0          892         0\n",
       "1          893         0\n",
       "2          894         0\n",
       "3          895         0\n",
       "4          896         0"
      ]
     },
     "execution_count": 23,
     "metadata": {},
     "output_type": "execute_result"
    }
   ],
   "source": [
    "output = pd.DataFrame({'PassengerId': test_data.PassengerId,'Survived': prediction})\n",
    "output.to_csv('submission.csv', index=False)\n",
    "output.head()"
   ]
  },
  {
   "cell_type": "code",
   "execution_count": null,
   "id": "896501f9",
   "metadata": {},
   "outputs": [],
   "source": []
  },
  {
   "cell_type": "code",
   "execution_count": null,
   "id": "a0e233c7",
   "metadata": {},
   "outputs": [],
   "source": []
  }
 ],
 "metadata": {
  "kernelspec": {
   "display_name": "Python 3 (ipykernel)",
   "language": "python",
   "name": "python3"
  },
  "language_info": {
   "codemirror_mode": {
    "name": "ipython",
    "version": 3
   },
   "file_extension": ".py",
   "mimetype": "text/x-python",
   "name": "python",
   "nbconvert_exporter": "python",
   "pygments_lexer": "ipython3",
   "version": "3.9.2"
  }
 },
 "nbformat": 4,
 "nbformat_minor": 5
}
